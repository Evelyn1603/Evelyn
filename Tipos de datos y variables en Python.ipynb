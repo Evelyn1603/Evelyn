{
 "cells": [
  {
   "cell_type": "markdown",
   "metadata": {},
   "source": [
    "## TIPOS DE DATOS Y  VARIABLES EN PYTHON"
   ]
  },
  {
   "cell_type": "markdown",
   "metadata": {},
   "source": [
    "## TIPOS DE CADENAS"
   ]
  },
  {
   "cell_type": "markdown",
   "metadata": {},
   "source": [
    "Las cadenas son texto cerrado entre comillas (simples o dobles). Las cadenas admiten operadores como la suma o la multiplicación. Ejemplo de cadenas:\n",
    "\n"
   ]
  },
  {
   "cell_type": "code",
   "execution_count": 1,
   "metadata": {},
   "outputs": [
    {
     "name": "stdout",
     "output_type": "stream",
     "text": [
      "comillas simples\n",
      "comillas dobles\n",
      "Aprender Python\n"
     ]
    }
   ],
   "source": [
    "cadena1 = ('comillas simples')\n",
    "print (cadena1)\n",
    "cadena2 = (\"comillas dobles\")\n",
    "print (cadena2)\n",
    "n = \"Aprender\"\n",
    "a = \"Python\"\n",
    "n_a = n + \" \" + a\n",
    "print (n_a)"
   ]
  },
  {
   "cell_type": "markdown",
   "metadata": {},
   "source": [
    "## TIPOS DE BOOLEANOS"
   ]
  },
  {
   "cell_type": "markdown",
   "metadata": {},
   "source": [
    "Este es el tipo de variable que solo puede tener Verdadero o Falso. Son valores muy usados en condiciones y bucles. Ejemplo de variable booleana:"
   ]
  },
  {
   "cell_type": "code",
   "execution_count": 2,
   "metadata": {},
   "outputs": [
    {
     "name": "stdout",
     "output_type": "stream",
     "text": [
      "El valor es Verdadero: True , el cual es de tipo <class 'bool'>\n",
      "El valor es Falso: False , el cual es de tipo <class 'bool'>\n"
     ]
    }
   ],
   "source": [
    "aT = True\n",
    "print (\"El valor es Verdadero:\", aT, \", el cual es de tipo\", type(aT)), \"\\n\"\n",
    "aF = False\n",
    "print (\"El valor es Falso:\", aF, \", el cual es de tipo\", type(aF))"
   ]
  },
  {
   "cell_type": "markdown",
   "metadata": {},
   "source": [
    "## TIPOS DE CONJUNTOS"
   ]
  },
  {
   "cell_type": "markdown",
   "metadata": {},
   "source": [
    "Son una colección de datos sin elementos que se repiten"
   ]
  },
  {
   "cell_type": "code",
   "execution_count": 3,
   "metadata": {},
   "outputs": [
    {
     "name": "stdout",
     "output_type": "stream",
     "text": [
      "('pastelito', 'jamon', 'papa', 'empanadilla', 'mango', 'quesito')\n"
     ]
    }
   ],
   "source": [
    "pla = 'pastelito', 'jamon', 'papa', 'empanadilla', 'mango', 'quesito'\n",
    "print (pla)\n",
    " "
   ]
  },
  {
   "cell_type": "markdown",
   "metadata": {},
   "source": [
    "## TIPOS DE LISTAS"
   ]
  },
  {
   "cell_type": "markdown",
   "metadata": {},
   "source": [
    "Son listas que almacenan vectores (arrays). Estas listas pueden tener diferentes tipos de datos. Ejemplo de listas en Python:"
   ]
  },
  {
   "cell_type": "code",
   "execution_count": 4,
   "metadata": {},
   "outputs": [
    {
     "name": "stdout",
     "output_type": "stream",
     "text": [
      "['2.36', 'elefante', 1010, 'rojo']\n",
      "['2.36', 1010]\n"
     ]
    }
   ],
   "source": [
    "b = ['2.36', 'elefante', 1010, 'rojo']\n",
    "print (b)\n",
    "l4 = b[0:3:2]\n",
    "print(l4)"
   ]
  },
  {
   "cell_type": "markdown",
   "metadata": {},
   "source": [
    "## Operadores aritméticos"
   ]
  },
  {
   "cell_type": "code",
   "execution_count": null,
   "metadata": {},
   "outputs": [],
   "source": [
    "#Suma +\n",
    "g= 5+1 # g=6\n",
    "#Resta –\n",
    "g= 5-1 # g=4\n",
    "#Negacion –\n",
    "g= -5+1 # g=-4\n",
    "#Multiplicacion *\n",
    "g= 5*2 # g=10\n",
    "#Exponente **\n",
    "g= 5**2 # g=25\n",
    "#Division /\n",
    "g= 5/2 # g=2.5\n",
    "#Division entera //\n",
    "g= 5//2 # g=2\n",
    "#Modulo: divide el operando de la izquierda por el operador del lado derecho y devuelve el resto.\n",
    "g= 7 % 2 # g=1"
   ]
  },
  {
   "cell_type": "markdown",
   "metadata": {},
   "source": [
    "## Operadores relacionales"
   ]
  },
  {
   "cell_type": "markdown",
   "metadata": {},
   "source": [
    "Estos operadores comparan valores y dan como resultado un valor booleano (es decir un valor Verdadero o Falso):"
   ]
  },
  {
   "cell_type": "code",
   "execution_count": null,
   "metadata": {},
   "outputs": [],
   "source": [
    "== ¿son iguales a y b?             r = 5 == 3 # r es False\n",
    "\n",
    "!= ¿son distintos a y b?           r = 5 != 3 # r es True\n",
    "\n",
    "<  ¿es a menor que b?              r = 5 < 3 # r es False\n",
    "\n",
    ">  ¿es a mayor que b?              r = 5 > 3 # r es True\n",
    "\n",
    "<= ¿es a menor o igual que b?      r = 5 <= 5 # r es True\n",
    "\n",
    ">= ¿es a mayor o igual que b?      r = 5 >= 3 # r es True"
   ]
  }
 ],
 "metadata": {
  "kernelspec": {
   "display_name": "Python 3",
   "language": "python",
   "name": "python3"
  },
  "language_info": {
   "codemirror_mode": {
    "name": "ipython",
    "version": 3
   },
   "file_extension": ".py",
   "mimetype": "text/x-python",
   "name": "python",
   "nbconvert_exporter": "python",
   "pygments_lexer": "ipython3",
   "version": "3.7.4"
  }
 },
 "nbformat": 4,
 "nbformat_minor": 2
}
