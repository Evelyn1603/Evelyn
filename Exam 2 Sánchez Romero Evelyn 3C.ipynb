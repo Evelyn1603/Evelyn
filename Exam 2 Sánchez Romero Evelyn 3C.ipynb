{
 "cells": [
  {
   "cell_type": "markdown",
   "metadata": {},
   "source": [
    "## EXAM 2"
   ]
  },
  {
   "cell_type": "code",
   "execution_count": null,
   "metadata": {},
   "outputs": [],
   "source": [
    "n = 5\n",
    "sumx = 0\n",
    "sumx1=0\n",
    "sumy = 0\n",
    "sumy1=0\n",
    "sumxy = 0\n",
    "sumxy1=0\n",
    "x2 = 0\n",
    "x21=0\n",
    "\n",
    "print(\"Device 1\")\n",
    "for i in range(5):\n",
    "    x = int(input(f\"Introduce x{i+1}: \"))\n",
    "    y = float(input(f\"Introduce y{i+1}: \"))\n",
    "    sumx += x\n",
    "    sumy += y\n",
    "    sumxy += x*y\n",
    "    x2 += (x**2)\n",
    "    n += 1\n",
    "print(\"\\nDevice 2\")\n",
    "for i in range(0,5):\n",
    "    x_1 =int(input(f\"Introduce x_1 {i+1}: \"))\n",
    "    y_1 = float(input(f\"Introduce y_1 {i+1}: \"))\n",
    "    sumx1 += x_1\n",
    "    sumy1 += y_1\n",
    "    sumxy1 += x_1*y_1\n",
    "    x21+=(x_1**2)\n",
    "    n+=1\n",
    "    \n",
    "b1 = (n*sumxy - sumx*sumy)/(n*x2 - sumx**2)\n",
    "b0 = (sumy - b1*sumx)/n\n",
    "time = (30-b0)/b1\n",
    "\n",
    "b11= (n*sumxy1-sumx1*sumy1)/(n*x21-sumx1**2)\n",
    "b01= (sumy1-b11*sumx1)/n\n",
    "time1 = (30-b01)/b11\n",
    "\n",
    "print(\"These were the results: \\nDevice 1: \", time, \"\\nDevice 2: \",time1)\n",
    "\n",
    "if time<time1:\n",
    "    print(f\"\\nDevice 1 will reach the temperature of 30°C in: {time} seconds\")\n",
    "if time1<time:\n",
    "    print(f\"\\nDevice 2 will reach the tempeature of 30°C in: {time1} seconds\")\n",
    "\n",
    "\n",
    "           \n",
    "           \n",
    "           "
   ]
  }
 ],
 "metadata": {
  "kernelspec": {
   "display_name": "Python 3",
   "language": "python",
   "name": "python3"
  },
  "language_info": {
   "codemirror_mode": {
    "name": "ipython",
    "version": 3
   },
   "file_extension": ".py",
   "mimetype": "text/x-python",
   "name": "python",
   "nbconvert_exporter": "python",
   "pygments_lexer": "ipython3",
   "version": "3.7.4"
  }
 },
 "nbformat": 4,
 "nbformat_minor": 2
}
