{
 "cells": [
  {
   "cell_type": "markdown",
   "metadata": {},
   "source": [
    "## CALCULATE LINEAR REGRESSION"
   ]
  },
  {
   "cell_type": "code",
   "execution_count": null,
   "metadata": {},
   "outputs": [],
   "source": [
    "n = 0\n",
    "sum_x = 0\n",
    "sum_y = 0\n",
    "sum_xy = 0\n",
    "sum_x2 = 0\n",
    "\n",
    "for i in range(0,1000000):\n",
    "    x = int(input(f\"Introduce x{i+1}: \"))\n",
    "    y = int(input(f\"Introduce y{i+1}: \"))\n",
    "    sum_x += x\n",
    "    sum_y += y\n",
    "    sum_xy += x*y\n",
    "    sum_x2 += (x**2)\n",
    "    n += 1\n",
    "b1 = (n*sum_xy - sum_x*sum_y)/(n*sum_x2 - sum_x**2)\n",
    "b0 = (sum_y - b1*sum_x)/n\n",
    "time = (35-b0)/b1\n",
    "print(f\"\\nTime: \\n\\n{time}seconds\")"
   ]
  },
  {
   "cell_type": "code",
   "execution_count": null,
   "metadata": {},
   "outputs": [],
   "source": []
  }
 ],
 "metadata": {
  "kernelspec": {
   "display_name": "Python 3",
   "language": "python",
   "name": "python3"
  },
  "language_info": {
   "codemirror_mode": {
    "name": "ipython",
    "version": 3
   },
   "file_extension": ".py",
   "mimetype": "text/x-python",
   "name": "python",
   "nbconvert_exporter": "python",
   "pygments_lexer": "ipython3",
   "version": "3.7.4"
  }
 },
 "nbformat": 4,
 "nbformat_minor": 2
}
